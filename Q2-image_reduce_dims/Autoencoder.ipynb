{
 "cells": [
  {
   "cell_type": "code",
   "execution_count": 29,
   "metadata": {
    "id": "gQ_iQns235Et"
   },
   "outputs": [],
   "source": [
    "import keras\n",
    "from keras import layers\n",
    "from keras.models import Model\n",
    "from keras.preprocessing.image import ImageDataGenerator\n",
    "from keras.callbacks import ModelCheckpoint"
   ]
  },
  {
   "cell_type": "code",
   "execution_count": 47,
   "metadata": {
    "colab": {
     "base_uri": "https://localhost:8080/"
    },
    "id": "ulRvNkll35Ew",
    "outputId": "1dd87dec-7fc7-48fa-a84d-3b2281ada948"
   },
   "outputs": [
    {
     "name": "stdout",
     "output_type": "stream",
     "text": [
      "Found 2975 images belonging to 1 classes.\n",
      "Found 499 images belonging to 1 classes.\n"
     ]
    }
   ],
   "source": [
    "datagen = ImageDataGenerator(rescale=1.0/255.0)\n",
    "# load and iterate training dataset\n",
    "train = datagen.flow_from_directory('cityscapes_data/train/', class_mode='input', batch_size=32)\n",
    "# load and iterate validation dataset\n",
    "val = datagen.flow_from_directory('cityscapes_data/val/', class_mode='input', batch_size=32)"
   ]
  },
  {
   "cell_type": "code",
   "execution_count": 48,
   "metadata": {
    "colab": {
     "base_uri": "https://localhost:8080/"
    },
    "id": "3w4-LQ-n35Ex",
    "outputId": "fd7c1046-2dae-4384-a551-14319f707216"
   },
   "outputs": [
    {
     "name": "stdout",
     "output_type": "stream",
     "text": [
      "Model: \"model_13\"\n",
      "_________________________________________________________________\n",
      "Layer (type)                 Output Shape              Param #   \n",
      "=================================================================\n",
      "input_9 (InputLayer)         [(None, 256, 256, 3)]     0         \n",
      "_________________________________________________________________\n",
      "conv2d_27 (Conv2D)           (None, 256, 256, 32)      896       \n",
      "_________________________________________________________________\n",
      "dropout_8 (Dropout)          (None, 256, 256, 32)      0         \n",
      "_________________________________________________________________\n",
      "max_pooling2d_19 (MaxPooling (None, 128, 128, 32)      0         \n",
      "_________________________________________________________________\n",
      "conv2d_28 (Conv2D)           (None, 128, 128, 16)      4624      \n",
      "_________________________________________________________________\n",
      "max_pooling2d_20 (MaxPooling (None, 64, 64, 16)        0         \n",
      "_________________________________________________________________\n",
      "conv2d_transpose_19 (Conv2DT (None, 128, 128, 32)      4640      \n",
      "_________________________________________________________________\n",
      "conv2d_transpose_20 (Conv2DT (None, 256, 256, 32)      9248      \n",
      "_________________________________________________________________\n",
      "conv2d_29 (Conv2D)           (None, 256, 256, 3)       867       \n",
      "=================================================================\n",
      "Total params: 20,275\n",
      "Trainable params: 20,275\n",
      "Non-trainable params: 0\n",
      "_________________________________________________________________\n"
     ]
    }
   ],
   "source": [
    "input = layers.Input(shape=(256, 256, 3))\n",
    "\n",
    "# Encoder\n",
    "encoder = layers.Conv2D(32, (3, 3), activation=\"relu\", padding=\"same\")(input)\n",
    "encoder = layers.Dropout(0.25)(encoder)\n",
    "encoder = layers.MaxPooling2D((2, 2), padding=\"same\")(encoder)\n",
    "encoder = layers.Conv2D(16, (3, 3), activation=\"relu\", padding=\"same\")(encoder)\n",
    "encoder = layers.MaxPooling2D((2, 2), padding=\"same\")(encoder)\n",
    "\n",
    "# Decoder\n",
    "decoder = layers.Conv2DTranspose(32, (3, 3), strides=2, activation=\"relu\", padding=\"same\")(encoder)\n",
    "decoder = layers.Conv2DTranspose(32, (3, 3), strides=2, activation=\"relu\", padding=\"same\")(decoder)\n",
    "decoder = layers.Conv2D(3, (3, 3), activation=\"relu\", padding=\"same\")(decoder)\n",
    "\n",
    "# Autoencoder\n",
    "autoencoder = Model(input, decoder)\n",
    "autoencoder.compile(optimizer=\"adam\", loss=\"binary_crossentropy\")\n",
    "autoencoder.summary()"
   ]
  },
  {
   "cell_type": "code",
   "execution_count": 49,
   "metadata": {
    "colab": {
     "base_uri": "https://localhost:8080/"
    },
    "id": "9cgqvP4B35Ey",
    "outputId": "a62cc337-4e81-4355-ea05-65276cf9cfff"
   },
   "outputs": [
    {
     "data": {
      "text/plain": [
       "TensorShape([None, 64, 64, 16])"
      ]
     },
     "execution_count": 49,
     "metadata": {
      "tags": []
     },
     "output_type": "execute_result"
    }
   ],
   "source": [
    "# encoded form size\n",
    "encoder.shape"
   ]
  },
  {
   "cell_type": "code",
   "execution_count": 55,
   "metadata": {
    "colab": {
     "base_uri": "https://localhost:8080/"
    },
    "id": "Z22JqO-y35Ez",
    "outputId": "0c50469f-8ea0-46c6-f703-90563c965eca",
    "scrolled": true
   },
   "outputs": [
    {
     "name": "stdout",
     "output_type": "stream",
     "text": [
      "WARNING:tensorflow:`period` argument is deprecated. Please use `save_freq` to specify the frequency in number of batches seen.\n",
      "Epoch 1/20\n",
      "93/93 [==============================] - 21s 226ms/step - loss: 0.5313 - val_loss: 0.5518\n",
      "\n",
      "Epoch 00001: saving model to saved-model-01-0.55.hdf5\n",
      "Epoch 2/20\n",
      "93/93 [==============================] - 21s 225ms/step - loss: 0.5312 - val_loss: 0.5524\n",
      "\n",
      "Epoch 00002: saving model to saved-model-02-0.55.hdf5\n",
      "Epoch 3/20\n",
      "93/93 [==============================] - 21s 226ms/step - loss: 0.5311 - val_loss: 0.5502\n",
      "\n",
      "Epoch 00003: saving model to saved-model-03-0.55.hdf5\n",
      "Epoch 4/20\n",
      "93/93 [==============================] - 21s 225ms/step - loss: 0.5318 - val_loss: 0.5534\n",
      "\n",
      "Epoch 00004: saving model to saved-model-04-0.55.hdf5\n",
      "Epoch 5/20\n",
      "93/93 [==============================] - 21s 225ms/step - loss: 0.5314 - val_loss: 0.5518\n",
      "\n",
      "Epoch 00005: saving model to saved-model-05-0.55.hdf5\n",
      "Epoch 6/20\n",
      "93/93 [==============================] - 21s 226ms/step - loss: 0.5312 - val_loss: 0.5499\n",
      "\n",
      "Epoch 00006: saving model to saved-model-06-0.55.hdf5\n",
      "Epoch 7/20\n",
      "93/93 [==============================] - 21s 226ms/step - loss: 0.5310 - val_loss: 0.5519\n",
      "\n",
      "Epoch 00007: saving model to saved-model-07-0.55.hdf5\n",
      "Epoch 8/20\n",
      "93/93 [==============================] - 21s 226ms/step - loss: 0.5309 - val_loss: 0.5505\n",
      "\n",
      "Epoch 00008: saving model to saved-model-08-0.55.hdf5\n",
      "Epoch 9/20\n",
      "93/93 [==============================] - 21s 227ms/step - loss: 0.5309 - val_loss: 0.5505\n",
      "\n",
      "Epoch 00009: saving model to saved-model-09-0.55.hdf5\n",
      "Epoch 10/20\n",
      "93/93 [==============================] - 21s 227ms/step - loss: 0.5308 - val_loss: 0.5504\n",
      "\n",
      "Epoch 00010: saving model to saved-model-10-0.55.hdf5\n",
      "Epoch 11/20\n",
      "93/93 [==============================] - 21s 227ms/step - loss: 0.5308 - val_loss: 0.5494\n",
      "\n",
      "Epoch 00011: saving model to saved-model-11-0.55.hdf5\n",
      "Epoch 12/20\n",
      "93/93 [==============================] - 21s 226ms/step - loss: 0.5308 - val_loss: 0.5500\n",
      "\n",
      "Epoch 00012: saving model to saved-model-12-0.55.hdf5\n",
      "Epoch 13/20\n",
      "93/93 [==============================] - 21s 227ms/step - loss: 0.5306 - val_loss: 0.5493\n",
      "\n",
      "Epoch 00013: saving model to saved-model-13-0.55.hdf5\n",
      "Epoch 14/20\n",
      "93/93 [==============================] - 21s 226ms/step - loss: 0.5307 - val_loss: 0.5484\n",
      "\n",
      "Epoch 00014: saving model to saved-model-14-0.55.hdf5\n",
      "Epoch 15/20\n",
      "93/93 [==============================] - 21s 226ms/step - loss: 0.5307 - val_loss: 0.5500\n",
      "\n",
      "Epoch 00015: saving model to saved-model-15-0.55.hdf5\n",
      "Epoch 16/20\n",
      "93/93 [==============================] - 21s 227ms/step - loss: 0.5308 - val_loss: 0.5528\n",
      "\n",
      "Epoch 00016: saving model to saved-model-16-0.55.hdf5\n",
      "Epoch 17/20\n",
      "93/93 [==============================] - 21s 226ms/step - loss: 0.5306 - val_loss: 0.5484\n",
      "\n",
      "Epoch 00017: saving model to saved-model-17-0.55.hdf5\n",
      "Epoch 18/20\n",
      "93/93 [==============================] - 21s 227ms/step - loss: 0.5306 - val_loss: 0.5486\n",
      "\n",
      "Epoch 00018: saving model to saved-model-18-0.55.hdf5\n",
      "Epoch 19/20\n",
      "93/93 [==============================] - 21s 227ms/step - loss: 0.5305 - val_loss: 0.5480\n",
      "\n",
      "Epoch 00019: saving model to saved-model-19-0.55.hdf5\n",
      "Epoch 20/20\n",
      "93/93 [==============================] - 21s 227ms/step - loss: 0.5306 - val_loss: 0.5490\n",
      "\n",
      "Epoch 00020: saving model to saved-model-20-0.55.hdf5\n"
     ]
    },
    {
     "data": {
      "text/plain": [
       "<tensorflow.python.keras.callbacks.History at 0x7f57aa8b4b90>"
      ]
     },
     "execution_count": 55,
     "metadata": {
      "tags": []
     },
     "output_type": "execute_result"
    }
   ],
   "source": [
    "filepath = \"saved-model-{epoch:02d}-{val_loss:.2f}.hdf5\"\n",
    "checkpoint = ModelCheckpoint(filepath, monitor='val_loss', verbose=1, save_best_only=False, save_weights_only=False, mode='auto', period=1)\n",
    "autoencoder.fit(\n",
    "    x=train,\n",
    "    epochs=20,\n",
    "    verbose=1,\n",
    "    shuffle=True,\n",
    "    validation_data=val,\n",
    "    callbacks=[checkpoint]\n",
    ")"
   ]
  },
  {
   "cell_type": "code",
   "execution_count": 1,
   "metadata": {
    "colab": {
     "base_uri": "https://localhost:8080/"
    },
    "id": "zMxsyvjn35Ez",
    "outputId": "4b83bad7-7843-47ce-b668-c9764c4b8297"
   },
   "outputs": [
    {
     "name": "stdout",
     "output_type": "stream",
     "text": [
      "Model: \"model_13\"\n",
      "_________________________________________________________________\n",
      "Layer (type)                 Output Shape              Param #   \n",
      "=================================================================\n",
      "input_9 (InputLayer)         [(None, 256, 256, 3)]     0         \n",
      "_________________________________________________________________\n",
      "conv2d_27 (Conv2D)           (None, 256, 256, 32)      896       \n",
      "_________________________________________________________________\n",
      "dropout_8 (Dropout)          (None, 256, 256, 32)      0         \n",
      "_________________________________________________________________\n",
      "max_pooling2d_19 (MaxPooling (None, 128, 128, 32)      0         \n",
      "_________________________________________________________________\n",
      "conv2d_28 (Conv2D)           (None, 128, 128, 16)      4624      \n",
      "_________________________________________________________________\n",
      "max_pooling2d_20 (MaxPooling (None, 64, 64, 16)        0         \n",
      "_________________________________________________________________\n",
      "conv2d_transpose_19 (Conv2DT (None, 128, 128, 32)      4640      \n",
      "_________________________________________________________________\n",
      "conv2d_transpose_20 (Conv2DT (None, 256, 256, 32)      9248      \n",
      "_________________________________________________________________\n",
      "conv2d_29 (Conv2D)           (None, 256, 256, 3)       867       \n",
      "=================================================================\n",
      "Total params: 20,275\n",
      "Trainable params: 20,275\n",
      "Non-trainable params: 0\n",
      "_________________________________________________________________\n"
     ]
    }
   ],
   "source": [
    "from keras.models import load_model\n",
    "model = load_model('saved-model-20-0.55.hdf5')\n",
    "model.summary()"
   ]
  },
  {
   "cell_type": "code",
   "execution_count": 2,
   "metadata": {
    "colab": {
     "base_uri": "https://localhost:8080/",
     "height": 310
    },
    "id": "EteJ9YTY35E0",
    "outputId": "01a3a224-6d3e-45a8-c3cb-cc018a6c858b"
   },
   "outputs": [
    {
     "data": {
      "image/jpeg": "[encoded data removed]",
      "text/plain": [
       "<IPython.core.display.Image object>"
      ]
     },
     "execution_count": 2,
     "metadata": {},
     "output_type": "execute_result"
    }
   ],
   "source": [
    "# outputs\n",
    "from keras.preprocessing import image\n",
    "from IPython.display import Image \n",
    "\n",
    "import numpy as np\n",
    "def get_img(img_path):\n",
    "    img = image.load_img(img_path)\n",
    "    return np.expand_dims(image.img_to_array(img), axis=0)\n",
    "img = 'cityscapes_data/val/0/6.jpg'\n",
    "pred = model.predict(get_img(img))\n",
    "pred = pred[0]\n",
    "pred_img = image.array_to_img(pred)\n",
    "pred_img.save('output.jpg')\n",
    "Image(img)\n",
    "# Input Image"
   ]
  },
  {
   "cell_type": "code",
   "execution_count": 3,
   "metadata": {
    "colab": {
     "base_uri": "https://localhost:8080/",
     "height": 273
    },
    "id": "7nSTqbnoI6pO",
    "outputId": "07a91e48-6800-49f6-9f16-befd5d7cb01b"
   },
   "outputs": [
    {
     "data": {
      "image/jpeg": "[encoded data removed]",
      "text/plain": [
       "<IPython.core.display.Image object>"
      ]
     },
     "execution_count": 3,
     "metadata": {},
     "output_type": "execute_result"
    }
   ],
   "source": [
    "# Output Image from Model\n",
    "Image('output.jpg')"
   ]
  }
 ],
 "metadata": {
  "accelerator": "GPU",
  "colab": {
   "collapsed_sections": [],
   "name": "Autoencoder.ipynb",
   "provenance": [],
   "toc_visible": true
  },
  "kernelspec": {
   "display_name": "Python 3",
   "language": "python",
   "name": "python3"
  },
  "language_info": {
   "codemirror_mode": {
    "name": "ipython",
    "version": 3
   },
   "file_extension": ".py",
   "mimetype": "text/x-python",
   "name": "python",
   "nbconvert_exporter": "python",
   "pygments_lexer": "ipython3",
   "version": "3.8.5"
  }
 },
 "nbformat": 4,
 "nbformat_minor": 1
}
